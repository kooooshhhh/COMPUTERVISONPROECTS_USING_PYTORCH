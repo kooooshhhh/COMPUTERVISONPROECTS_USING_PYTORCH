{
 "cells": [
  {
   "cell_type": "markdown",
   "id": "dfb9f736",
   "metadata": {},
   "source": [
    "### computer vision libraries\n",
    "* torchvision- base domain lib for pytorch\n",
    "* torchvision.datasets\n",
    "* torchvision.models\n",
    "* torchvision.transforms\n",
    "* torch.utils.data.dataset\n",
    "* torch.utils.data.dataloader"
   ]
  },
  {
   "cell_type": "code",
   "execution_count": 10,
   "id": "03478fac",
   "metadata": {},
   "outputs": [],
   "source": [
    "import torch\n",
    "from torch import nn\n",
    "import torchvision \n",
    "from torchvision import datasets\n",
    "from torchvision import transforms\n",
    "from torchvision.transforms import ToTensor\n",
    "import  matplotlib.pyplot as plt"
   ]
  },
  {
   "cell_type": "code",
   "execution_count": 11,
   "id": "cc9c39f9",
   "metadata": {},
   "outputs": [
    {
     "data": {
      "text/plain": [
       "'1.12.1'"
      ]
     },
     "execution_count": 11,
     "metadata": {},
     "output_type": "execute_result"
    }
   ],
   "source": [
    "torch.__version__"
   ]
  },
  {
   "cell_type": "code",
   "execution_count": 12,
   "id": "f720e14f",
   "metadata": {},
   "outputs": [
    {
     "data": {
      "text/plain": [
       "'0.13.1'"
      ]
     },
     "execution_count": 12,
     "metadata": {},
     "output_type": "execute_result"
    }
   ],
   "source": [
    "torchvision.__version__"
   ]
  },
  {
   "cell_type": "code",
   "execution_count": 13,
   "id": "536279b9",
   "metadata": {},
   "outputs": [],
   "source": [
    "##getting a dataset"
   ]
  },
  {
   "cell_type": "code",
   "execution_count": 14,
   "id": "c0d47583",
   "metadata": {},
   "outputs": [],
   "source": [
    "train_data= datasets.FashionMNIST(\n",
    "    root=\"data\", #where to download the data\n",
    "    train=True,\n",
    "    download=True,\n",
    "    transform=torchvision.transforms.ToTensor(),\n",
    "    target_transform=None\n",
    ")\n",
    "test_data= datasets.FashionMNIST(\n",
    "    root=\"data\", #where to download the data\n",
    "    train=False,\n",
    "    download=True,\n",
    "    transform=torchvision.transforms.ToTensor(),\n",
    "    target_transform=None\n",
    ")"
   ]
  },
  {
   "cell_type": "code",
   "execution_count": 15,
   "id": "7e60fb2a",
   "metadata": {},
   "outputs": [
    {
     "data": {
      "text/plain": [
       "60000"
      ]
     },
     "execution_count": 15,
     "metadata": {},
     "output_type": "execute_result"
    }
   ],
   "source": [
    "len(train_data)\n",
    "# len(test_data)"
   ]
  },
  {
   "cell_type": "code",
   "execution_count": 16,
   "id": "d8f68c66",
   "metadata": {},
   "outputs": [],
   "source": [
    "#see the first training example"
   ]
  },
  {
   "cell_type": "code",
   "execution_count": 17,
   "id": "b50100f9",
   "metadata": {
    "scrolled": true
   },
   "outputs": [
    {
     "data": {
      "text/plain": [
       "(tensor([[[0.0000, 0.0000, 0.0000, 0.0000, 0.0000, 0.0000, 0.0000, 0.0000,\n",
       "           0.0000, 0.0000, 0.0000, 0.0000, 0.0000, 0.0000, 0.0000, 0.0000,\n",
       "           0.0000, 0.0000, 0.0000, 0.0000, 0.0000, 0.0000, 0.0000, 0.0000,\n",
       "           0.0000, 0.0000, 0.0000, 0.0000],\n",
       "          [0.0000, 0.0000, 0.0000, 0.0000, 0.0000, 0.0000, 0.0000, 0.0000,\n",
       "           0.0000, 0.0000, 0.0000, 0.0000, 0.0000, 0.0000, 0.0000, 0.0000,\n",
       "           0.0000, 0.0000, 0.0000, 0.0000, 0.0000, 0.0000, 0.0000, 0.0000,\n",
       "           0.0000, 0.0000, 0.0000, 0.0000],\n",
       "          [0.0000, 0.0000, 0.0000, 0.0000, 0.0000, 0.0000, 0.0000, 0.0000,\n",
       "           0.0000, 0.0000, 0.0000, 0.0000, 0.0000, 0.0000, 0.0000, 0.0000,\n",
       "           0.0000, 0.0000, 0.0000, 0.0000, 0.0000, 0.0000, 0.0000, 0.0000,\n",
       "           0.0000, 0.0000, 0.0000, 0.0000],\n",
       "          [0.0000, 0.0000, 0.0000, 0.0000, 0.0000, 0.0000, 0.0000, 0.0000,\n",
       "           0.0000, 0.0000, 0.0000, 0.0000, 0.0039, 0.0000, 0.0000, 0.0510,\n",
       "           0.2863, 0.0000, 0.0000, 0.0039, 0.0157, 0.0000, 0.0000, 0.0000,\n",
       "           0.0000, 0.0039, 0.0039, 0.0000],\n",
       "          [0.0000, 0.0000, 0.0000, 0.0000, 0.0000, 0.0000, 0.0000, 0.0000,\n",
       "           0.0000, 0.0000, 0.0000, 0.0000, 0.0118, 0.0000, 0.1412, 0.5333,\n",
       "           0.4980, 0.2431, 0.2118, 0.0000, 0.0000, 0.0000, 0.0039, 0.0118,\n",
       "           0.0157, 0.0000, 0.0000, 0.0118],\n",
       "          [0.0000, 0.0000, 0.0000, 0.0000, 0.0000, 0.0000, 0.0000, 0.0000,\n",
       "           0.0000, 0.0000, 0.0000, 0.0000, 0.0235, 0.0000, 0.4000, 0.8000,\n",
       "           0.6902, 0.5255, 0.5647, 0.4824, 0.0902, 0.0000, 0.0000, 0.0000,\n",
       "           0.0000, 0.0471, 0.0392, 0.0000],\n",
       "          [0.0000, 0.0000, 0.0000, 0.0000, 0.0000, 0.0000, 0.0000, 0.0000,\n",
       "           0.0000, 0.0000, 0.0000, 0.0000, 0.0000, 0.0000, 0.6078, 0.9255,\n",
       "           0.8118, 0.6980, 0.4196, 0.6118, 0.6314, 0.4275, 0.2510, 0.0902,\n",
       "           0.3020, 0.5098, 0.2824, 0.0588],\n",
       "          [0.0000, 0.0000, 0.0000, 0.0000, 0.0000, 0.0000, 0.0000, 0.0000,\n",
       "           0.0000, 0.0000, 0.0000, 0.0039, 0.0000, 0.2706, 0.8118, 0.8745,\n",
       "           0.8549, 0.8471, 0.8471, 0.6392, 0.4980, 0.4745, 0.4784, 0.5725,\n",
       "           0.5529, 0.3451, 0.6745, 0.2588],\n",
       "          [0.0000, 0.0000, 0.0000, 0.0000, 0.0000, 0.0000, 0.0000, 0.0000,\n",
       "           0.0000, 0.0039, 0.0039, 0.0039, 0.0000, 0.7843, 0.9098, 0.9098,\n",
       "           0.9137, 0.8980, 0.8745, 0.8745, 0.8431, 0.8353, 0.6431, 0.4980,\n",
       "           0.4824, 0.7686, 0.8980, 0.0000],\n",
       "          [0.0000, 0.0000, 0.0000, 0.0000, 0.0000, 0.0000, 0.0000, 0.0000,\n",
       "           0.0000, 0.0000, 0.0000, 0.0000, 0.0000, 0.7176, 0.8824, 0.8471,\n",
       "           0.8745, 0.8941, 0.9216, 0.8902, 0.8784, 0.8706, 0.8784, 0.8667,\n",
       "           0.8745, 0.9608, 0.6784, 0.0000],\n",
       "          [0.0000, 0.0000, 0.0000, 0.0000, 0.0000, 0.0000, 0.0000, 0.0000,\n",
       "           0.0000, 0.0000, 0.0000, 0.0000, 0.0000, 0.7569, 0.8941, 0.8549,\n",
       "           0.8353, 0.7765, 0.7059, 0.8314, 0.8235, 0.8275, 0.8353, 0.8745,\n",
       "           0.8627, 0.9529, 0.7922, 0.0000],\n",
       "          [0.0000, 0.0000, 0.0000, 0.0000, 0.0000, 0.0000, 0.0000, 0.0000,\n",
       "           0.0000, 0.0039, 0.0118, 0.0000, 0.0471, 0.8588, 0.8627, 0.8314,\n",
       "           0.8549, 0.7529, 0.6627, 0.8902, 0.8157, 0.8549, 0.8784, 0.8314,\n",
       "           0.8863, 0.7725, 0.8196, 0.2039],\n",
       "          [0.0000, 0.0000, 0.0000, 0.0000, 0.0000, 0.0000, 0.0000, 0.0000,\n",
       "           0.0000, 0.0000, 0.0235, 0.0000, 0.3882, 0.9569, 0.8706, 0.8627,\n",
       "           0.8549, 0.7961, 0.7765, 0.8667, 0.8431, 0.8353, 0.8706, 0.8627,\n",
       "           0.9608, 0.4667, 0.6549, 0.2196],\n",
       "          [0.0000, 0.0000, 0.0000, 0.0000, 0.0000, 0.0000, 0.0000, 0.0000,\n",
       "           0.0000, 0.0157, 0.0000, 0.0000, 0.2157, 0.9255, 0.8941, 0.9020,\n",
       "           0.8941, 0.9412, 0.9098, 0.8353, 0.8549, 0.8745, 0.9176, 0.8510,\n",
       "           0.8510, 0.8196, 0.3608, 0.0000],\n",
       "          [0.0000, 0.0000, 0.0039, 0.0157, 0.0235, 0.0275, 0.0078, 0.0000,\n",
       "           0.0000, 0.0000, 0.0000, 0.0000, 0.9294, 0.8863, 0.8510, 0.8745,\n",
       "           0.8706, 0.8588, 0.8706, 0.8667, 0.8471, 0.8745, 0.8980, 0.8431,\n",
       "           0.8549, 1.0000, 0.3020, 0.0000],\n",
       "          [0.0000, 0.0118, 0.0000, 0.0000, 0.0000, 0.0000, 0.0000, 0.0000,\n",
       "           0.0000, 0.2431, 0.5686, 0.8000, 0.8941, 0.8118, 0.8353, 0.8667,\n",
       "           0.8549, 0.8157, 0.8275, 0.8549, 0.8784, 0.8745, 0.8588, 0.8431,\n",
       "           0.8784, 0.9569, 0.6235, 0.0000],\n",
       "          [0.0000, 0.0000, 0.0000, 0.0000, 0.0706, 0.1725, 0.3216, 0.4196,\n",
       "           0.7412, 0.8941, 0.8627, 0.8706, 0.8510, 0.8863, 0.7843, 0.8039,\n",
       "           0.8275, 0.9020, 0.8784, 0.9176, 0.6902, 0.7373, 0.9804, 0.9725,\n",
       "           0.9137, 0.9333, 0.8431, 0.0000],\n",
       "          [0.0000, 0.2235, 0.7333, 0.8157, 0.8784, 0.8667, 0.8784, 0.8157,\n",
       "           0.8000, 0.8392, 0.8157, 0.8196, 0.7843, 0.6235, 0.9608, 0.7569,\n",
       "           0.8078, 0.8745, 1.0000, 1.0000, 0.8667, 0.9176, 0.8667, 0.8275,\n",
       "           0.8627, 0.9098, 0.9647, 0.0000],\n",
       "          [0.0118, 0.7922, 0.8941, 0.8784, 0.8667, 0.8275, 0.8275, 0.8392,\n",
       "           0.8039, 0.8039, 0.8039, 0.8627, 0.9412, 0.3137, 0.5882, 1.0000,\n",
       "           0.8980, 0.8667, 0.7373, 0.6039, 0.7490, 0.8235, 0.8000, 0.8196,\n",
       "           0.8706, 0.8941, 0.8824, 0.0000],\n",
       "          [0.3843, 0.9137, 0.7765, 0.8235, 0.8706, 0.8980, 0.8980, 0.9176,\n",
       "           0.9765, 0.8627, 0.7608, 0.8431, 0.8510, 0.9451, 0.2549, 0.2863,\n",
       "           0.4157, 0.4588, 0.6588, 0.8588, 0.8667, 0.8431, 0.8510, 0.8745,\n",
       "           0.8745, 0.8784, 0.8980, 0.1137],\n",
       "          [0.2941, 0.8000, 0.8314, 0.8000, 0.7569, 0.8039, 0.8275, 0.8824,\n",
       "           0.8471, 0.7255, 0.7725, 0.8078, 0.7765, 0.8353, 0.9412, 0.7647,\n",
       "           0.8902, 0.9608, 0.9373, 0.8745, 0.8549, 0.8314, 0.8196, 0.8706,\n",
       "           0.8627, 0.8667, 0.9020, 0.2627],\n",
       "          [0.1882, 0.7961, 0.7176, 0.7608, 0.8353, 0.7725, 0.7255, 0.7451,\n",
       "           0.7608, 0.7529, 0.7922, 0.8392, 0.8588, 0.8667, 0.8627, 0.9255,\n",
       "           0.8824, 0.8471, 0.7804, 0.8078, 0.7294, 0.7098, 0.6941, 0.6745,\n",
       "           0.7098, 0.8039, 0.8078, 0.4510],\n",
       "          [0.0000, 0.4784, 0.8588, 0.7569, 0.7020, 0.6706, 0.7176, 0.7686,\n",
       "           0.8000, 0.8235, 0.8353, 0.8118, 0.8275, 0.8235, 0.7843, 0.7686,\n",
       "           0.7608, 0.7490, 0.7647, 0.7490, 0.7765, 0.7529, 0.6902, 0.6118,\n",
       "           0.6549, 0.6941, 0.8235, 0.3608],\n",
       "          [0.0000, 0.0000, 0.2902, 0.7412, 0.8314, 0.7490, 0.6863, 0.6745,\n",
       "           0.6863, 0.7098, 0.7255, 0.7373, 0.7412, 0.7373, 0.7569, 0.7765,\n",
       "           0.8000, 0.8196, 0.8235, 0.8235, 0.8275, 0.7373, 0.7373, 0.7608,\n",
       "           0.7529, 0.8471, 0.6667, 0.0000],\n",
       "          [0.0078, 0.0000, 0.0000, 0.0000, 0.2588, 0.7843, 0.8706, 0.9294,\n",
       "           0.9373, 0.9490, 0.9647, 0.9529, 0.9569, 0.8667, 0.8627, 0.7569,\n",
       "           0.7490, 0.7020, 0.7137, 0.7137, 0.7098, 0.6902, 0.6510, 0.6588,\n",
       "           0.3882, 0.2275, 0.0000, 0.0000],\n",
       "          [0.0000, 0.0000, 0.0000, 0.0000, 0.0000, 0.0000, 0.0000, 0.1569,\n",
       "           0.2392, 0.1725, 0.2824, 0.1608, 0.1373, 0.0000, 0.0000, 0.0000,\n",
       "           0.0000, 0.0000, 0.0000, 0.0000, 0.0000, 0.0000, 0.0000, 0.0000,\n",
       "           0.0000, 0.0000, 0.0000, 0.0000],\n",
       "          [0.0000, 0.0000, 0.0000, 0.0000, 0.0000, 0.0000, 0.0000, 0.0000,\n",
       "           0.0000, 0.0000, 0.0000, 0.0000, 0.0000, 0.0000, 0.0000, 0.0000,\n",
       "           0.0000, 0.0000, 0.0000, 0.0000, 0.0000, 0.0000, 0.0000, 0.0000,\n",
       "           0.0000, 0.0000, 0.0000, 0.0000],\n",
       "          [0.0000, 0.0000, 0.0000, 0.0000, 0.0000, 0.0000, 0.0000, 0.0000,\n",
       "           0.0000, 0.0000, 0.0000, 0.0000, 0.0000, 0.0000, 0.0000, 0.0000,\n",
       "           0.0000, 0.0000, 0.0000, 0.0000, 0.0000, 0.0000, 0.0000, 0.0000,\n",
       "           0.0000, 0.0000, 0.0000, 0.0000]]]),\n",
       " 9)"
      ]
     },
     "execution_count": 17,
     "metadata": {},
     "output_type": "execute_result"
    }
   ],
   "source": [
    "image,label=train_data[0]\n",
    "image,label"
   ]
  },
  {
   "cell_type": "code",
   "execution_count": 18,
   "id": "eabafdd4",
   "metadata": {},
   "outputs": [
    {
     "data": {
      "text/plain": [
       "['T-shirt/top',\n",
       " 'Trouser',\n",
       " 'Pullover',\n",
       " 'Dress',\n",
       " 'Coat',\n",
       " 'Sandal',\n",
       " 'Shirt',\n",
       " 'Sneaker',\n",
       " 'Bag',\n",
       " 'Ankle boot']"
      ]
     },
     "execution_count": 18,
     "metadata": {},
     "output_type": "execute_result"
    }
   ],
   "source": [
    "class_names= train_data.classes\n",
    "class_names"
   ]
  },
  {
   "cell_type": "code",
   "execution_count": 19,
   "id": "34db3721",
   "metadata": {},
   "outputs": [
    {
     "data": {
      "text/plain": [
       "{'T-shirt/top': 0,\n",
       " 'Trouser': 1,\n",
       " 'Pullover': 2,\n",
       " 'Dress': 3,\n",
       " 'Coat': 4,\n",
       " 'Sandal': 5,\n",
       " 'Shirt': 6,\n",
       " 'Sneaker': 7,\n",
       " 'Bag': 8,\n",
       " 'Ankle boot': 9}"
      ]
     },
     "execution_count": 19,
     "metadata": {},
     "output_type": "execute_result"
    }
   ],
   "source": [
    "class_to_idx=train_data.class_to_idx\n",
    "class_to_idx"
   ]
  },
  {
   "cell_type": "code",
   "execution_count": 20,
   "id": "6e1696d6",
   "metadata": {},
   "outputs": [
    {
     "data": {
      "text/plain": [
       "tensor([9, 0, 0,  ..., 3, 0, 5])"
      ]
     },
     "execution_count": 20,
     "metadata": {},
     "output_type": "execute_result"
    }
   ],
   "source": [
    "train_data.targets"
   ]
  },
  {
   "cell_type": "code",
   "execution_count": 21,
   "id": "377b62d9",
   "metadata": {},
   "outputs": [
    {
     "data": {
      "text/plain": [
       "torch.Size([1, 28, 28])"
      ]
     },
     "execution_count": 21,
     "metadata": {},
     "output_type": "execute_result"
    }
   ],
   "source": [
    "image.shape\n",
    "#color channels, height , width"
   ]
  },
  {
   "cell_type": "code",
   "execution_count": 22,
   "id": "ff27901a",
   "metadata": {},
   "outputs": [],
   "source": [
    "#visualising our data"
   ]
  },
  {
   "cell_type": "code",
   "execution_count": 23,
   "id": "43daca0d",
   "metadata": {},
   "outputs": [
    {
     "name": "stdout",
     "output_type": "stream",
     "text": [
      "torch.Size([1, 28, 28])\n"
     ]
    },
    {
     "data": {
      "text/plain": [
       "Text(0.5, 1.0, 'boot')"
      ]
     },
     "execution_count": 23,
     "metadata": {},
     "output_type": "execute_result"
    },
    {
     "data": {
      "image/png": "[encoded data removed]",
      "text/plain": [
       "<Figure size 432x288 with 1 Axes>"
      ]
     },
     "metadata": {
      "needs_background": "light"
     },
     "output_type": "display_data"
    }
   ],
   "source": [
    "image,lable=train_data[0]\n",
    "print(image.shape)\n",
    "plt.imshow(image.squeeze())\n",
    "plt.title('boot')"
   ]
  },
  {
   "cell_type": "code",
   "execution_count": 24,
   "id": "2eb60b6b",
   "metadata": {},
   "outputs": [
    {
     "data": {
      "text/plain": [
       "(-0.5, 27.5, 27.5, -0.5)"
      ]
     },
     "execution_count": 24,
     "metadata": {},
     "output_type": "execute_result"
    },
    {
     "data": {
      "image/png": "[encoded data removed]",
      "text/plain": [
       "<Figure size 432x288 with 1 Axes>"
      ]
     },
     "metadata": {
      "needs_background": "light"
     },
     "output_type": "display_data"
    }
   ],
   "source": [
    "plt.imshow(image.squeeze(),cmap=\"gray\")\n",
    "plt.axis(False)"
   ]
  },
  {
   "cell_type": "code",
   "execution_count": null,
   "id": "ab1e1585",
   "metadata": {},
   "outputs": [],
   "source": []
  },
  {
   "cell_type": "code",
   "execution_count": 25,
   "id": "e54675e8",
   "metadata": {},
   "outputs": [
    {
     "data": {
      "image/png": "[encoded data removed]",
      "text/plain": [
       "<Figure size 648x648 with 16 Axes>"
      ]
     },
     "metadata": {
      "needs_background": "light"
     },
     "output_type": "display_data"
    }
   ],
   "source": [
    "# torch.manual_seed(42)\n",
    "\n",
    "fig=plt.figure(figsize=(9,9))\n",
    "rows,cols=4,4\n",
    "for i in range(1, rows*cols+1):\n",
    "    random_idx=torch.randint(0,len(train_data),size=[1]).item()\n",
    "    img,lable=train_data[random_idx]\n",
    "    fig.add_subplot(rows,cols,i)\n",
    "    plt.imshow(img.squeeze(), cmap=\"gray\")\n",
    "    plt.title(class_names[lable])\n",
    "    plt.axis(False)"
   ]
  },
  {
   "cell_type": "code",
   "execution_count": 26,
   "id": "3c1d6a26",
   "metadata": {},
   "outputs": [],
   "source": [
    "#linear lines or non linearity"
   ]
  },
  {
   "cell_type": "code",
   "execution_count": 27,
   "id": "c9371b4e",
   "metadata": {},
   "outputs": [
    {
     "data": {
      "text/plain": [
       "Dataset FashionMNIST\n",
       "    Number of datapoints: 60000\n",
       "    Root location: data\n",
       "    Split: Train\n",
       "    StandardTransform\n",
       "Transform: ToTensor()"
      ]
     },
     "execution_count": 27,
     "metadata": {},
     "output_type": "execute_result"
    }
   ],
   "source": [
    "train_data"
   ]
  },
  {
   "cell_type": "code",
   "execution_count": 28,
   "id": "4a09abe7",
   "metadata": {},
   "outputs": [
    {
     "data": {
      "text/plain": [
       "Dataset FashionMNIST\n",
       "    Number of datapoints: 10000\n",
       "    Root location: data\n",
       "    Split: Test\n",
       "    StandardTransform\n",
       "Transform: ToTensor()"
      ]
     },
     "execution_count": 28,
     "metadata": {},
     "output_type": "execute_result"
    }
   ],
   "source": [
    "test_data"
   ]
  },
  {
   "cell_type": "code",
   "execution_count": 29,
   "id": "ef53c735",
   "metadata": {},
   "outputs": [],
   "source": [
    "#dataloader turns our dataset into a python iterable\n",
    "#we want to turn our data into batches (or mini-batches)\n",
    "#as it is computationally efficient . So we break it down to 32 images at a time\n",
    "#it gives our nn to upgrade its chances to update its epoch"
   ]
  },
  {
   "cell_type": "code",
   "execution_count": 30,
   "id": "2e43b624",
   "metadata": {},
   "outputs": [],
   "source": [
    "from torch.utils.data import DataLoader #helps to create batches, very import library\n",
    "BATCH_SIZE=32\n",
    "#turn datasets into batches\n",
    "train_dataloader=DataLoader(dataset=train_data,\n",
    "                           batch_size=BATCH_SIZE,\n",
    "                           shuffle=True)\n",
    "test_dataloader=DataLoader(dataset=test_data,\n",
    "                           batch_size=BATCH_SIZE,\n",
    "                           shuffle=False)"
   ]
  },
  {
   "cell_type": "code",
   "execution_count": 31,
   "id": "2d63d392",
   "metadata": {
    "scrolled": true
   },
   "outputs": [
    {
     "data": {
      "text/plain": [
       "(1875, 313)"
      ]
     },
     "execution_count": 31,
     "metadata": {},
     "output_type": "execute_result"
    }
   ],
   "source": [
    "len(train_dataloader), len(test_dataloader)"
   ]
  },
  {
   "cell_type": "code",
   "execution_count": 32,
   "id": "e3d793ed",
   "metadata": {},
   "outputs": [
    {
     "data": {
      "text/plain": [
       "(torch.Size([32, 1, 28, 28]), torch.Size([32]))"
      ]
     },
     "execution_count": 32,
     "metadata": {},
     "output_type": "execute_result"
    }
   ],
   "source": [
    "#whats happening in training datloader\n",
    "train_features_batch, train_labels_batch=next(iter(train_dataloader))\n",
    "train_features_batch.shape,train_labels_batch.shape\n",
    "#batchsize, height,width,color channels\n"
   ]
  },
  {
   "cell_type": "code",
   "execution_count": 33,
   "id": "e4571583",
   "metadata": {},
   "outputs": [
    {
     "data": {
      "text/plain": [
       "(-0.5, 27.5, 27.5, -0.5)"
      ]
     },
     "execution_count": 33,
     "metadata": {},
     "output_type": "execute_result"
    },
    {
     "data": {
      "image/png": "[encoded data removed]",
      "text/plain": [
       "<Figure size 432x288 with 1 Axes>"
      ]
     },
     "metadata": {
      "needs_background": "light"
     },
     "output_type": "display_data"
    }
   ],
   "source": [
    "#show a sample\n",
    "torch.manual_seed(42)\n",
    "random_idx=torch.randint(0,len(train_features_batch), size=[1]).item()\n",
    "img,label= train_features_batch[random_idx], train_labels_batch[random_idx]\n",
    "plt.imshow(img.squeeze(),cmap=\"gray\")\n",
    "plt.title(class_names[label])\n",
    "plt.axis(False)"
   ]
  },
  {
   "cell_type": "markdown",
   "id": "b1c05a77",
   "metadata": {},
   "source": [
    "#model_0\n",
    "* when starting to build a series of ML mondeling experiments its best practice to start with a baseline model.\n",
    "* a baseline mode l is a simple modelyou will try ans improve upon with subsequent models/experiments.\n",
    "* in other words start simply and add complexity when necessary."
   ]
  },
  {
   "cell_type": "code",
   "execution_count": 34,
   "id": "1d7e2e3e",
   "metadata": {},
   "outputs": [
    {
     "name": "stdout",
     "output_type": "stream",
     "text": [
      "before flattening:\n",
      "torch.Size([1, 28, 28])\n",
      "after flattening:\n",
      "torch.Size([1, 784])\n"
     ]
    }
   ],
   "source": [
    "#creat a flatten layer\n",
    "flatten_model=nn.Flatten()\n",
    "#get a single sample\n",
    "x= train_features_batch[0]\n",
    "x.shape\n",
    "#flatten the sample\n",
    "output=flatten_model(x) #perform what happened\n",
    "print('before flattening:')\n",
    "print(x.shape)#color channels, height, width\n",
    "print('after flattening:')\n",
    "print(output.shape)#color channels, height*width"
   ]
  },
  {
   "cell_type": "code",
   "execution_count": 35,
   "id": "113c3f3b",
   "metadata": {},
   "outputs": [],
   "source": [
    "class FashionMNISTModelV0(nn.Module):\n",
    "    def __init__(self,\n",
    "                 input_shape:int, \n",
    "                 hidden_units:int, \n",
    "                 output_shape:int):\n",
    "        super().__init__()\n",
    "        self.layer_stack=nn.Sequential(\n",
    "        nn.Flatten(),\n",
    "        nn.Linear(in_features=input_shape,\n",
    "                  out_features=hidden_units),\n",
    "        nn.Linear(in_features=hidden_units,\n",
    "                  out_features=output_shape)\n",
    "        )\n",
    "    \n",
    "    def forward(self,x):\n",
    "        return self.layer_stack(x)   \n",
    "    "
   ]
  },
  {
   "cell_type": "code",
   "execution_count": 36,
   "id": "e32b3f91",
   "metadata": {},
   "outputs": [
    {
     "data": {
      "text/plain": [
       "FashionMNISTModelV0(\n",
       "  (layer_stack): Sequential(\n",
       "    (0): Flatten(start_dim=1, end_dim=-1)\n",
       "    (1): Linear(in_features=784, out_features=10, bias=True)\n",
       "    (2): Linear(in_features=10, out_features=10, bias=True)\n",
       "  )\n",
       ")"
      ]
     },
     "execution_count": 36,
     "metadata": {},
     "output_type": "execute_result"
    }
   ],
   "source": [
    "torch.manual_seed(42)\n",
    "\n",
    "model_0= FashionMNISTModelV0(input_shape=28*28,\n",
    "                             hidden_units=10,\n",
    "                             output_shape=len(class_names))\n",
    "\n",
    "model_0"
   ]
  },
  {
   "cell_type": "code",
   "execution_count": 37,
   "id": "bce81379",
   "metadata": {},
   "outputs": [
    {
     "data": {
      "text/plain": [
       "tensor([[-0.0315,  0.3171,  0.0531, -0.2525,  0.5959,  0.2112,  0.3233,  0.2694,\n",
       "         -0.1004,  0.0157]], grad_fn=<AddmmBackward0>)"
      ]
     },
     "execution_count": 37,
     "metadata": {},
     "output_type": "execute_result"
    }
   ],
   "source": [
    "dum_x=torch.rand([1,1,28,28])\n",
    "model_0(dum_x)"
   ]
  },
  {
   "cell_type": "code",
   "execution_count": 38,
   "id": "93d0edf0",
   "metadata": {},
   "outputs": [
    {
     "data": {
      "text/plain": [
       "OrderedDict([('layer_stack.1.weight',\n",
       "              tensor([[ 0.0273,  0.0296, -0.0084,  ..., -0.0142,  0.0093,  0.0135],\n",
       "                      [-0.0188, -0.0354,  0.0187,  ..., -0.0106, -0.0001,  0.0115],\n",
       "                      [-0.0008,  0.0017,  0.0045,  ..., -0.0127, -0.0188,  0.0059],\n",
       "                      ...,\n",
       "                      [-0.0116,  0.0273, -0.0344,  ...,  0.0176,  0.0283, -0.0011],\n",
       "                      [-0.0230,  0.0257,  0.0291,  ..., -0.0187, -0.0087,  0.0001],\n",
       "                      [ 0.0176, -0.0147,  0.0053,  ..., -0.0336, -0.0221,  0.0205]])),\n",
       "             ('layer_stack.1.bias',\n",
       "              tensor([-0.0093,  0.0283, -0.0033,  0.0255,  0.0017,  0.0037, -0.0302, -0.0123,\n",
       "                       0.0018,  0.0163])),\n",
       "             ('layer_stack.2.weight',\n",
       "              tensor([[ 0.0614, -0.0687,  0.0021,  0.2718,  0.2109,  0.1079, -0.2279, -0.1063,\n",
       "                        0.2019,  0.2847],\n",
       "                      [-0.1495,  0.1344, -0.0740,  0.2006, -0.0475, -0.2514, -0.3130, -0.0118,\n",
       "                        0.0932, -0.1864],\n",
       "                      [ 0.2488,  0.1500,  0.1907,  0.1457, -0.3050, -0.0580,  0.1643,  0.1565,\n",
       "                       -0.2877, -0.1792],\n",
       "                      [ 0.2305, -0.2618,  0.2397, -0.0610,  0.0232,  0.1542,  0.0851, -0.2027,\n",
       "                        0.1030, -0.2715],\n",
       "                      [-0.1596, -0.0555, -0.0633,  0.2302, -0.1726,  0.2654,  0.1473,  0.1029,\n",
       "                        0.2252, -0.2160],\n",
       "                      [-0.2725,  0.0118,  0.1559,  0.1596,  0.0132,  0.3024,  0.1124,  0.1366,\n",
       "                       -0.1533,  0.0965],\n",
       "                      [-0.1184, -0.2555, -0.2057, -0.1909, -0.0477, -0.1324,  0.2905,  0.1307,\n",
       "                       -0.2629,  0.0133],\n",
       "                      [ 0.2727, -0.0127,  0.0513,  0.0863, -0.1043, -0.2047, -0.1185, -0.0825,\n",
       "                        0.2488, -0.2571],\n",
       "                      [ 0.0425, -0.1209, -0.0336, -0.0281, -0.1227,  0.0730,  0.0747, -0.1816,\n",
       "                        0.1943,  0.2853],\n",
       "                      [-0.1310,  0.0645, -0.1171,  0.2168, -0.0245, -0.2820,  0.0736,  0.2621,\n",
       "                        0.0012, -0.0810]])),\n",
       "             ('layer_stack.2.bias',\n",
       "              tensor([-0.0087,  0.1791,  0.2712, -0.0791,  0.1685,  0.1762,  0.2825,  0.2266,\n",
       "                      -0.2612, -0.2613]))])"
      ]
     },
     "execution_count": 38,
     "metadata": {},
     "output_type": "execute_result"
    }
   ],
   "source": [
    "model_0.state_dict()"
   ]
  },
  {
   "cell_type": "markdown",
   "id": "2c03d1be",
   "metadata": {},
   "source": [
    "#### set up loss, optimizer and evaluation metrics\n",
    "* loss fn- nn.CrossEntropyLoss()\n",
    "* optimizer- torch.optim.SGD()\n",
    "* Evaluation Metric- accuracy"
   ]
  },
  {
   "cell_type": "code",
   "execution_count": 39,
   "id": "eefe1697",
   "metadata": {},
   "outputs": [
    {
     "name": "stdout",
     "output_type": "stream",
     "text": [
      "exists, skipping download....\n"
     ]
    }
   ],
   "source": [
    "import requests\n",
    "from pathlib import Path\n",
    "#download\n",
    "if Path(\"helper_functions.py\").is_file():\n",
    "    print('exists, skipping download....')\n",
    "else:\n",
    "    print('downloading..')\n",
    "    request=requests.get(\"https://raw.githubusercontent.com/mrdbourke/pytorch-deep-learning/main/helper_functions.py\")\n",
    "    with open('helper_functions.py','wb') as f:\n",
    "        f.write(request.content)"
   ]
  },
  {
   "cell_type": "code",
   "execution_count": 40,
   "id": "490ee91f",
   "metadata": {},
   "outputs": [],
   "source": [
    "#import accuracy metric\n",
    "from helper_functions import accuracy_fn\n",
    "loss_fn= nn.CrossEntropyLoss()\n",
    "optimizer= torch.optim.SGD(params=model_0.parameters(),\n",
    "                          lr=0.1)"
   ]
  },
  {
   "cell_type": "markdown",
   "id": "01e8a3a6",
   "metadata": {},
   "source": [
    "#creating a function to time our experiments\n",
    "#Ml is experimental\n",
    "\n",
    "We want to track:\n",
    "1) Model's performance \n",
    "2) how fast it runs"
   ]
  },
  {
   "cell_type": "code",
   "execution_count": 41,
   "id": "55e7f914",
   "metadata": {},
   "outputs": [],
   "source": [
    "from timeit import default_timer as timer\n",
    "def print_train_time(start: float,\n",
    "                    end: float):\n",
    "    \"\"\"Prints difference between start and end time \"\"\"\n",
    "    total_time= end-start\n",
    "    return (\"train time\",total_time)"
   ]
  },
  {
   "cell_type": "code",
   "execution_count": 42,
   "id": "61f6b470",
   "metadata": {},
   "outputs": [
    {
     "data": {
      "text/plain": [
       "('train time', 1.6042000027027825e-05)"
      ]
     },
     "execution_count": 42,
     "metadata": {},
     "output_type": "execute_result"
    }
   ],
   "source": [
    "start_time= timer()\n",
    "#some code\n",
    "end_time= timer()\n",
    "print_train_time(start=start_time, end=end_time)"
   ]
  },
  {
   "cell_type": "markdown",
   "id": "2e3ea914",
   "metadata": {},
   "source": [
    "# creating a training loop and create batches\n",
    "* loop through epochs\n",
    "* loop through training batches, perform training steps, calculate the train loss per batch\n",
    "* loop through test batches, perform testing steps, calculate the test loss per batch\n",
    "* print out whats happening\n",
    "* time it"
   ]
  },
  {
   "cell_type": "code",
   "execution_count": 43,
   "id": "ff835ed7",
   "metadata": {},
   "outputs": [
    {
     "data": {
      "application/vnd.jupyter.widget-view+json": {
       "model_id": "2dcd76773f4d482bb3ddbda36d71978a",
       "version_major": 2,
       "version_minor": 0
      },
      "text/plain": [
       "  0%|          | 0/3 [00:00<?, ?it/s]"
      ]
     },
     "metadata": {},
     "output_type": "display_data"
    },
    {
     "name": "stdout",
     "output_type": "stream",
     "text": [
      "Looked at 0/60000 samples.\n",
      "Looked at 12800/60000 samples.\n",
      "Looked at 25600/60000 samples.\n",
      "Looked at 38400/60000 samples.\n",
      "Looked at 51200/60000 samples.\n",
      "\n",
      "Train loss: 0.590389 | Test_loss:  0.015948, Test acc:  82.038738\n",
      "Looked at 0/60000 samples.\n",
      "Looked at 12800/60000 samples.\n",
      "Looked at 25600/60000 samples.\n",
      "Looked at 38400/60000 samples.\n",
      "Looked at 51200/60000 samples.\n",
      "\n",
      "Train loss: 0.476332 | Test_loss:  0.015021, Test acc:  83.196885\n",
      "Looked at 0/60000 samples.\n",
      "Looked at 12800/60000 samples.\n",
      "Looked at 25600/60000 samples.\n",
      "Looked at 38400/60000 samples.\n",
      "Looked at 51200/60000 samples.\n",
      "\n",
      "Train loss: 0.455033 | Test_loss:  0.014919, Test acc:  83.426518\n"
     ]
    }
   ],
   "source": [
    "from tqdm.auto import tqdm\n",
    "\n",
    "#seed seed and start the \n",
    "torch.manual_seed(42)\n",
    "train_time_start= timer()\n",
    "#no of epochs\n",
    "epochs = 3 #30 secs or a min\n",
    "# create traing and test loop\n",
    "for epoch in tqdm(range(epochs)):\n",
    "    #training\n",
    "    train_loss = 0\n",
    "    # add a loop to loop through the training batches\n",
    "    for batch, (X,y) in enumerate(train_dataloader):\n",
    "        model_0.train()\n",
    "        #1 forward pass\n",
    "        y_pred= model_0(X)\n",
    "        \n",
    "        loss= loss_fn(y_pred,y)\n",
    "        \n",
    "        train_loss += loss #accumulate train loss\n",
    "        \n",
    "        optimizer.zero_grad()\n",
    "        \n",
    "        #loss backward\n",
    "        loss.backward()\n",
    "        \n",
    "        #optimizer step\n",
    "        optimizer.step()\n",
    "        \n",
    "        #print out whats happening\n",
    "        if batch %400==0:\n",
    "            print(f\"Looked at {batch*len(X)}/{len(train_dataloader.dataset)} samples.\")\n",
    "            \n",
    "    #divide total train loss by length of train dataloader\n",
    "    train_loss /= len(train_dataloader)\n",
    "    \n",
    "    \n",
    "    \n",
    "    ###testing\n",
    "    test_loss, test_acc=0,0\n",
    "    model_0.eval()\n",
    "    with torch.inference_mode():\n",
    "        for X_test, y_test in test_dataloader:\n",
    "            #forward pass\n",
    "            test_pred= model_0(X_test)\n",
    "            \n",
    "            #calculate the loss\n",
    "            test_loss +=loss_fn(test_pred,y_test)\n",
    "            \n",
    "            #calculate the accuracy\n",
    "            test_acc +=accuracy_fn(y_true=y_test, y_pred=test_pred.argmax(dim=1))\n",
    "            \n",
    "        #calculate the test loss average per batch\n",
    "        test_loss /= len(test_data)\n",
    "        \n",
    "        #calculate the test acc average per batch\n",
    "        test_acc /= len(test_dataloader)\n",
    "    \n",
    "    #print out whats happening\n",
    "    print(f\"\\nTrain loss: {train_loss:4f} | Test_loss: {test_loss: 4f}, Test acc: {test_acc: 4f}\")\n",
    "\n",
    "#calculate the training time\n",
    "train_time_end=timer()\n",
    "total_train_time_model_0= print_train_time(start=train_time_start, end=train_time_end)\n",
    "    \n",
    "    \n",
    "    \n",
    "    \n",
    "    \n",
    "    \n",
    "    \n",
    "    \n",
    "    \n",
    "    "
   ]
  },
  {
   "cell_type": "code",
   "execution_count": 44,
   "id": "8e823db7",
   "metadata": {},
   "outputs": [
    {
     "data": {
      "text/plain": [
       "Parameter containing:\n",
       "tensor([[ 0.0273,  0.0298, -0.0065,  ...,  0.0071,  0.0091,  0.0170],\n",
       "        [-0.0189, -0.0355,  0.0155,  ...,  0.0161,  0.0120,  0.0117],\n",
       "        [-0.0008,  0.0020,  0.0032,  ...,  0.0058, -0.0146,  0.0084],\n",
       "        ...,\n",
       "        [-0.0116,  0.0274, -0.0323,  ...,  0.0527,  0.0434,  0.0006],\n",
       "        [-0.0231,  0.0252,  0.0236,  ..., -0.0892, -0.0385, -0.0071],\n",
       "        [ 0.0175, -0.0148,  0.0027,  ..., -0.1155, -0.0674,  0.0125]],\n",
       "       requires_grad=True)"
      ]
     },
     "execution_count": 44,
     "metadata": {},
     "output_type": "execute_result"
    }
   ],
   "source": [
    "next(model_0.parameters())"
   ]
  },
  {
   "cell_type": "markdown",
   "id": "d41b813a",
   "metadata": {},
   "source": [
    "#### make predictions get model 0 results"
   ]
  },
  {
   "cell_type": "code",
   "execution_count": 45,
   "id": "b1939e32",
   "metadata": {},
   "outputs": [
    {
     "data": {
      "text/plain": [
       "{'model_name': 'FashionMNISTModelV0',\n",
       " 'model_loss': 0.47663888335227966,\n",
       " 'model_acc': 83.42651757188499}"
      ]
     },
     "execution_count": 45,
     "metadata": {},
     "output_type": "execute_result"
    }
   ],
   "source": [
    "torch.manual_seed(42)\n",
    "def eval_model(model: torch.nn.Module,\n",
    "              data_loader: torch.utils.data.DataLoader,\n",
    "              loss_fn: torch.nn.Module,\n",
    "              accuracy_fn):\n",
    "    \"\"\"Returns a dictionary containng the results of model predicting on data Loader\"\"\"\n",
    "    loss, acc=0,0\n",
    "    model.eval()\n",
    "    with torch.inference_mode():\n",
    "        for X,y in data_loader:\n",
    "            #make predictions\n",
    "            y_pred= model(X)\n",
    "            \n",
    "            \n",
    "            #accumulate the loss and accuracy balues per batch\n",
    "            loss += loss_fn(y_pred,y)\n",
    "            acc += accuracy_fn(y_true=y,\n",
    "                              y_pred= y_pred.argmax(dim=1))\n",
    "            \n",
    "        #scale loss and acc to find the average loss/acc per batch\n",
    "        loss /= len(data_loader)\n",
    "        acc /= len(data_loader)\n",
    "    \n",
    "    return {\"model_name\": model.__class__.__name__,\n",
    "           \"model_loss\": loss.item(),\n",
    "           \"model_acc\": acc}\n",
    "#calculate model 0. results  on test dataset\n",
    "model_0_results = eval_model(model= model_0,\n",
    "                            data_loader= test_dataloader,\n",
    "                            loss_fn= loss_fn,\n",
    "                            accuracy_fn = accuracy_fn)\n",
    "\n",
    "model_0_results"
   ]
  },
  {
   "cell_type": "markdown",
   "id": "69ebb6a7",
   "metadata": {},
   "source": [
    "# Model 1 non linear functions"
   ]
  },
  {
   "cell_type": "markdown",
   "id": "1f7095dd",
   "metadata": {},
   "source": [
    "we learned about non linearity before , helps us model non linear data\n"
   ]
  },
  {
   "cell_type": "code",
   "execution_count": 53,
   "id": "04af7e46",
   "metadata": {},
   "outputs": [],
   "source": [
    "#create a mode with non linear and linear models"
   ]
  },
  {
   "cell_type": "code",
   "execution_count": null,
   "id": "9597ded5",
   "metadata": {},
   "outputs": [],
   "source": []
  },
  {
   "cell_type": "code",
   "execution_count": 58,
   "id": "70be536e",
   "metadata": {},
   "outputs": [],
   "source": [
    "class FashionMNISTV1(nn.Module):\n",
    "    def __init__(self,\n",
    "                 input_shape: int, \n",
    "                 hidden_units: int, \n",
    "                 output_shape: int):\n",
    "        super().__init__()\n",
    "        self.layer_stack= nn.Sequential(\n",
    "            nn.Flatten(),\n",
    "            nn.Linear(in_features= input_shape,\n",
    "                     out_features= hidden_units),\n",
    "            nn.ReLU(),\n",
    "            nn.Linear(in_features= hidden_units,\n",
    "                     out_features= output_shape),\n",
    "            nn.ReLU()\n",
    "            \n",
    "            )\n",
    "    def forward(self, x: torch.Tensor):\n",
    "        return self.layer_stack(x)"
   ]
  },
  {
   "cell_type": "code",
   "execution_count": 60,
   "id": "4e960784",
   "metadata": {},
   "outputs": [],
   "source": [
    "model_1= FashionMNISTV1(input_shape= 784,\n",
    "                       hidden_units=10,\n",
    "                       output_shape=len(class_names))"
   ]
  },
  {
   "cell_type": "code",
   "execution_count": 61,
   "id": "35401e93",
   "metadata": {},
   "outputs": [
    {
     "data": {
      "text/plain": [
       "<bound method Module.parameters of FashionMNISTV1(\n",
       "  (layer_stack): Sequential(\n",
       "    (0): Flatten(start_dim=1, end_dim=-1)\n",
       "    (1): Linear(in_features=784, out_features=10, bias=True)\n",
       "    (2): ReLU()\n",
       "    (3): Linear(in_features=10, out_features=10, bias=True)\n",
       "    (4): ReLU()\n",
       "  )\n",
       ")>"
      ]
     },
     "execution_count": 61,
     "metadata": {},
     "output_type": "execute_result"
    }
   ],
   "source": [
    "model_1.parameters"
   ]
  },
  {
   "cell_type": "code",
   "execution_count": 62,
   "id": "9eb3f0eb",
   "metadata": {},
   "outputs": [
    {
     "data": {
      "text/plain": [
       "<torch._C.Generator at 0x7feea863d690>"
      ]
     },
     "execution_count": 62,
     "metadata": {},
     "output_type": "execute_result"
    }
   ],
   "source": [
    "torch.manual_seed(42)"
   ]
  },
  {
   "cell_type": "code",
   "execution_count": 64,
   "id": "7362facc",
   "metadata": {},
   "outputs": [],
   "source": [
    "#set up loss functions, optimizer and metrics\n",
    "from helper_functions import accuracy_fn\n",
    "loss_fn= nn.CrossEntropyLoss()\n",
    "optimizer= torch.optim.SGD(params=model_1.parameters(),\n",
    "                          lr=0.1) #updates parameters to reduce the loss"
   ]
  },
  {
   "cell_type": "markdown",
   "id": "25d30fa4",
   "metadata": {},
   "source": [
    "functionizing training and evaluation/ testing loops "
   ]
  },
  {
   "cell_type": "markdown",
   "id": "8770b3be",
   "metadata": {},
   "source": [
    "1) training loop- train_step()\n",
    "\n",
    "\n",
    " 2) testing loop- testing_step()"
   ]
  },
  {
   "cell_type": "code",
   "execution_count": 71,
   "id": "97ebfa25",
   "metadata": {},
   "outputs": [],
   "source": [
    "def train_step(model: torch.nn.Module,\n",
    "              data_loader: torch.utils.data.DataLoader,\n",
    "              loss_fn: torch.nn.Module,\n",
    "              optimizer: torch.optim.Optimizer,\n",
    "              accuracy_fn):\n",
    "    train_loss, train_acc = 0,0\n",
    "    #put model in training mode\n",
    "    model.train()\n",
    "\n",
    "    #training\n",
    "\n",
    "    # add a loop to loop through the training batches\n",
    "    for batch, (X,y) in enumerate(data_loader):\n",
    "        #1 forward pass\n",
    "        y_pred= model(X)\n",
    "        \n",
    "        loss= loss_fn(y_pred,y)\n",
    "        \n",
    "        train_loss += loss #accumulate train loss\n",
    "        train_acc +=accuracy_fn(y_true=y,\n",
    "                               y_pred=y_pred.argmax(dim=1))\n",
    "        \n",
    "        optimizer.zero_grad()\n",
    "        \n",
    "        #loss backward\n",
    "        loss.backward()\n",
    "        \n",
    "        #optimizer step\n",
    "        optimizer.step()\n",
    "        \n",
    "        #print out whats happening\n",
    "        if batch %400==0:\n",
    "            print(f\"Looked at {batch*len(X)}/{len(train_dataloader.dataset)} samples.\")\n",
    "            \n",
    "    #divide total train loss and acc by length of train dataloader\n",
    "    train_loss /= len(data_loader)\n",
    "    train_acc /= len(data_loader)\n",
    "    #print out whats happening\n",
    "    print(f\"Train loss: {train_loss:0.5f} | Train_acc: {train_acc: 0.2f}%\")\n",
    "\n",
    "\n",
    "def testing_step(model: torch.nn.Module,\n",
    "              data_loader: torch.utils.data.DataLoader,\n",
    "              loss_fn: torch.nn.Module,\n",
    "              accuracy_fn):\n",
    "    test_loss, test_acc=0,0\n",
    "    model.eval()\n",
    "    with torch.inference_mode():\n",
    "        for X,y in test_dataloader:\n",
    "            #forward pass\n",
    "            test_pred= model(X)\n",
    "            \n",
    "            #calculate the loss\n",
    "            test_loss +=loss_fn(test_pred,y)\n",
    "            \n",
    "            #calculate the accuracy\n",
    "            test_acc +=accuracy_fn(y_true=y, \n",
    "                                   y_pred=test_pred.argmax(dim=1))\n",
    "            \n",
    "        #calculate the test loss average per batch\n",
    "        test_loss /= len(data_loader)\n",
    "        \n",
    "        #calculate the test acc average per batch\n",
    "        test_acc /= len(data_loader)\n",
    "    \n",
    "    #print out whats happening\n",
    "    print(f\"Test_loss: {train_loss:0.5f} | Test_acc: {test_loss: 0.2f}, Test acc: {test_acc: 4f}\")\n",
    "\n",
    "    "
   ]
  },
  {
   "cell_type": "markdown",
   "id": "dfd49f8c",
   "metadata": {},
   "source": [
    "## main test/train loop using functions we made"
   ]
  },
  {
   "cell_type": "code",
   "execution_count": 76,
   "id": "39ecb95a",
   "metadata": {},
   "outputs": [
    {
     "data": {
      "application/vnd.jupyter.widget-view+json": {
       "model_id": "6f14fadf585946d3bfe549370d323e1d",
       "version_major": 2,
       "version_minor": 0
      },
      "text/plain": [
       "  0%|          | 0/3 [00:00<?, ?it/s]"
      ]
     },
     "metadata": {},
     "output_type": "display_data"
    },
    {
     "name": "stdout",
     "output_type": "stream",
     "text": [
      "Epoch: 0\n",
      "--------\n",
      "Looked at 0/60000 samples.\n",
      "Looked at 12800/60000 samples.\n",
      "Looked at 25600/60000 samples.\n",
      "Looked at 38400/60000 samples.\n",
      "Looked at 51200/60000 samples.\n",
      "Train loss: 0.57496 | Train_acc:  78.60%\n",
      "Test_loss: 0.45503 | Test_acc:  0.65, Test acc:  75.459265\n",
      "Epoch: 1\n",
      "--------\n",
      "Looked at 0/60000 samples.\n",
      "Looked at 12800/60000 samples.\n",
      "Looked at 25600/60000 samples.\n",
      "Looked at 38400/60000 samples.\n",
      "Looked at 51200/60000 samples.\n",
      "Train loss: 0.40500 | Train_acc:  85.74%\n",
      "Test_loss: 0.45503 | Test_acc:  0.43, Test acc:  85.203674\n",
      "Epoch: 2\n",
      "--------\n",
      "Looked at 0/60000 samples.\n",
      "Looked at 12800/60000 samples.\n",
      "Looked at 25600/60000 samples.\n",
      "Looked at 38400/60000 samples.\n",
      "Looked at 51200/60000 samples.\n",
      "Train loss: 0.37525 | Train_acc:  86.76%\n",
      "Test_loss: 0.45503 | Test_acc:  0.44, Test acc:  84.295128\n",
      "('train time', 12.242029625000214) seconds\n"
     ]
    }
   ],
   "source": [
    "\n",
    "# create traing and test loop\n",
    "from timeit import default_timer as timer\n",
    "train_time_start= timer()\n",
    "epochs = 3 #30 secs or a min\n",
    "# create traing and test loop\n",
    "\n",
    "for epoch in tqdm(range(epochs)):\n",
    "    print(f\"Epoch: {epoch}\\n--------\")\n",
    "    train_step(model=model_1,\n",
    "               data_loader=train_dataloader,\n",
    "               loss_fn= loss_fn,\n",
    "               optimizer=optimizer,\n",
    "               accuracy_fn=accuracy_fn)\n",
    "    testing_step(model=model_1,\n",
    "                 data_loader=test_dataloader,\n",
    "                 loss_fn= loss_fn,\n",
    "                 accuracy_fn=accuracy_fn)\n",
    "\n",
    "train_time_end= timer()\n",
    "total_train_time_model_1= print_train_time(start=train_time_start,\n",
    "                                          end=train_time_end)\n",
    "print(total_train_time_model_1, 'seconds')"
   ]
  },
  {
   "cell_type": "code",
   "execution_count": 77,
   "id": "96a7d267",
   "metadata": {},
   "outputs": [],
   "source": [
    "model_1_results= eval_model(model= model_1,\n",
    "                           data_loader= test_dataloader,\n",
    "                           loss_fn= loss_fn,\n",
    "                           accuracy_fn= accuracy_fn)"
   ]
  },
  {
   "cell_type": "code",
   "execution_count": 78,
   "id": "30cd1405",
   "metadata": {},
   "outputs": [
    {
     "data": {
      "text/plain": [
       "{'model_name': 'FashionMNISTV1',\n",
       " 'model_loss': 0.438970685005188,\n",
       " 'model_acc': 84.29512779552715}"
      ]
     },
     "execution_count": 78,
     "metadata": {},
     "output_type": "execute_result"
    }
   ],
   "source": [
    "model_1_results"
   ]
  },
  {
   "cell_type": "code",
   "execution_count": 79,
   "id": "4fedd72a",
   "metadata": {},
   "outputs": [
    {
     "data": {
      "text/plain": [
       "{'model_name': 'FashionMNISTModelV0',\n",
       " 'model_loss': 0.47663888335227966,\n",
       " 'model_acc': 83.42651757188499}"
      ]
     },
     "execution_count": 79,
     "metadata": {},
     "output_type": "execute_result"
    }
   ],
   "source": [
    "model_0_results"
   ]
  },
  {
   "cell_type": "code",
   "execution_count": null,
   "id": "87e1471f",
   "metadata": {},
   "outputs": [],
   "source": []
  }
 ],
 "metadata": {
  "kernelspec": {
   "display_name": "Python 3",
   "language": "python",
   "name": "python3"
  },
  "language_info": {
   "codemirror_mode": {
    "name": "ipython",
    "version": 3
   },
   "file_extension": ".py",
   "mimetype": "text/x-python",
   "name": "python",
   "nbconvert_exporter": "python",
   "pygments_lexer": "ipython3",
   "version": "3.8.8"
  }
 },
 "nbformat": 4,
 "nbformat_minor": 5
}
